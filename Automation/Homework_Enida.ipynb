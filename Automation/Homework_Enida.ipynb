{
 "cells": [
  {
   "cell_type": "markdown",
   "metadata": {},
   "source": [
    "1- SSH to the device and execute 'show hostname' command:"
   ]
  },
  {
   "cell_type": "code",
   "execution_count": 8,
   "metadata": {},
   "outputs": [],
   "source": [
    "from netmiko import ConnectHandler"
   ]
  },
  {
   "cell_type": "code",
   "execution_count": 9,
   "metadata": {},
   "outputs": [
    {
     "name": "stdout",
     "output_type": "stream",
     "text": [
      "Connected to the device!\n",
      "NEXUS \n",
      "\n"
     ]
    }
   ],
   "source": [
    "try:\n",
    "    device_connection = ConnectHandler(\n",
    "        device_type = 'cisco_nxos',\n",
    "        ip = '127.0.0.1',\n",
    "        port = '2222',\n",
    "        username = 'admin',\n",
    "        password = 'cisco!123'\n",
    "    )\n",
    "    print(\"Connected to the device!\")\n",
    "    hostname = device_connection.send_command(\"show hostname\")\n",
    "    print(hostname)\n",
    "    device_connection.disconnect()\n",
    "except:\n",
    "    print(\"Failure...\")\n",
    "    "
   ]
  },
  {
   "cell_type": "markdown",
   "metadata": {},
   "source": [
    "2- Create NETCONF Request that will GET the Hostname of your device:"
   ]
  },
  {
   "cell_type": "code",
   "execution_count": 22,
   "metadata": {},
   "outputs": [],
   "source": []
  },
  {
   "cell_type": "code",
   "execution_count": 2,
   "metadata": {},
   "outputs": [],
   "source": [
    "import ncclient\n",
    "from ncclient import manager\n",
    "from ncclient.operations import TimeoutExpiredError\n",
    "import xml.dom.minido"
   ]
  },
  {
   "cell_type": "code",
   "execution_count": 4,
   "metadata": {},
   "outputs": [
    {
     "name": "stdout",
     "output_type": "stream",
     "text": [
      "Connected to the device!\n"
     ]
    }
   ],
   "source": [
    "import pprint\n",
    "\n",
    "try:\n",
    "    device_connection = ncclient.manager.connect(\n",
    "        host = '127.0.0.1',\n",
    "        port = 2222,\n",
    "        username='admin',\n",
    "        password='cisco!123',\n",
    "        hostkey_verify=False,\n",
    "        device_params={'name': 'nexus'},\n",
    "        allow_agent=False,\n",
    "        look_for_keys=False\n",
    "    )\n",
    "    print(\"Connected to the device!\")  \n",
    "\n",
    "except:\n",
    "    print(\"Failure...\")"
   ]
  },
  {
   "cell_type": "code",
   "execution_count": 7,
   "metadata": {},
   "outputs": [
    {
     "name": "stdout",
     "output_type": "stream",
     "text": [
      "<?xml version=\"1.0\" encoding=\"ISO-8859-1\"?>\n",
      "<rpc-reply xmlns:if=\"http://www.cisco.com/nxos:1.0:if_manager\" xmlns:nfcli=\"http://www.cisco.com/nxos:1.0:nfcli\" xmlns:nxos=\"http://www.cisco.com/nxos:1.0\" xmlns:vlan_mgr_cli=\"http://www.cisco.com/nxos:1.0:vlan_mgr_cli\" xmlns:mod=\"http://www.cisco.com/nxos:1.0:vdc_mgr\" message-id=\"urn:uuid:1e7087ce-c397-4b95-b5e5-cdbe8f090c3d\" xmlns=\"urn:ietf:params:xml:ns:netconf:base:1.0\">\n",
      " <data>\n",
      "  <mod:show>\n",
      "   <mod:__XML__BLK_Cmd_SHOW_HOSTNAME_hostname>\n",
      "    <mod:__XML__OPT_Cmd_SHOW_HOSTNAME___readonly__>\n",
      "     <mod:__readonly__>\n",
      "      <mod:hostname>Nexus9000v</mod:hostname>\n",
      "     </mod:__readonly__>\n",
      "    </mod:__XML__OPT_Cmd_SHOW_HOSTNAME___readonly__>\n",
      "   </mod:__XML__BLK_Cmd_SHOW_HOSTNAME_hostname>\n",
      "  </mod:show>\n",
      " </data>\n",
      "</rpc-reply>\n"
     ]
    }
   ],
   "source": [
    "int_filter = '''\n",
    "                       <show xmlns=\"http://www.cisco.com/nxos:1.0\">\n",
    "                              <hostname></hostname>   \n",
    "                       </show>\n",
    "           '''\n",
    "netconf_output = device_connection.get(('subtree', int_filter))\n",
    "print(netconf_output)"
   ]
  },
  {
   "cell_type": "code",
   "execution_count": 9,
   "metadata": {},
   "outputs": [
    {
     "name": "stdout",
     "output_type": "stream",
     "text": [
      "Failure...\n"
     ]
    }
   ],
   "source": [
    "import pprint\n",
    "\n",
    "try:\n",
    "    device_connection = ncclient.manager.connect(\n",
    "        host = '127.0.0.1',\n",
    "        port = 2222,\n",
    "        username='admin',\n",
    "        password='cisco!123',\n",
    "        hostkey_verify=False,\n",
    "        device_params={'name': 'nexus'},\n",
    "        allow_agent=False,\n",
    "        look_for_keys=False\n",
    "    )\n",
    "    print(\"Connected to the device!\")  \n",
    "    hostname2 = []\n",
    "    \n",
    "    xml_doc=xml.dom.minidom.parseString(netconf_output.xml)\n",
    "    hostname2 = xml_doc.getElementsByTagName(\"mod:hostname\")\n",
    "    pprint.pprint(hostname2[0].firstChild.nodeValue)\n",
    "    \n",
    "    device_connection.disconnect()\n",
    "except:\n",
    "    print(\"Failure...\")\n",
    "    \n",
    "\n",
    "   \n",
    "    \n",
    "       "
   ]
  },
  {
   "cell_type": "code",
   "execution_count": 68,
   "metadata": {},
   "outputs": [
    {
     "ename": "ValueError",
     "evalue": "Invalid tag name '<Element {urn:ietf:params:xml:ns:netconf:base:1.0}disconnect at 0x1dabe4e6308>'",
     "output_type": "error",
     "traceback": [
      "\u001b[1;31m---------------------------------------------------------------------------\u001b[0m",
      "\u001b[1;31mValueError\u001b[0m                                Traceback (most recent call last)",
      "\u001b[1;32m<ipython-input-68-163525ef6b08>\u001b[0m in \u001b[0;36m<module>\u001b[1;34m\u001b[0m\n\u001b[1;32m----> 1\u001b[1;33m \u001b[0mdevice_connection\u001b[0m\u001b[1;33m.\u001b[0m\u001b[0mdisconnect\u001b[0m\u001b[1;33m(\u001b[0m\u001b[1;33m)\u001b[0m\u001b[1;33m\u001b[0m\u001b[1;33m\u001b[0m\u001b[0m\n\u001b[0m",
      "\u001b[1;32mC:\\ProgramData\\Anaconda3\\lib\\site-packages\\ncclient\\manager.py\u001b[0m in \u001b[0;36m_missing\u001b[1;34m(*args, **kwargs)\u001b[0m\n\u001b[0;32m    272\u001b[0m                     \u001b[1;32mfor\u001b[0m \u001b[0marg\u001b[0m \u001b[1;32min\u001b[0m \u001b[0margs\u001b[0m\u001b[1;33m:\u001b[0m\u001b[1;33m\u001b[0m\u001b[1;33m\u001b[0m\u001b[0m\n\u001b[0;32m    273\u001b[0m                         \u001b[0msub_ele\u001b[0m\u001b[1;33m(\u001b[0m\u001b[0mroot\u001b[0m\u001b[1;33m,\u001b[0m \u001b[0marg\u001b[0m\u001b[1;33m)\u001b[0m\u001b[1;33m\u001b[0m\u001b[1;33m\u001b[0m\u001b[0m\n\u001b[1;32m--> 274\u001b[1;33m                 \u001b[0mr\u001b[0m \u001b[1;33m=\u001b[0m \u001b[0mself\u001b[0m\u001b[1;33m.\u001b[0m\u001b[0mrpc\u001b[0m\u001b[1;33m(\u001b[0m\u001b[0mroot\u001b[0m\u001b[1;33m)\u001b[0m\u001b[1;33m\u001b[0m\u001b[1;33m\u001b[0m\u001b[0m\n\u001b[0m\u001b[0;32m    275\u001b[0m                 \u001b[1;32mreturn\u001b[0m \u001b[0mr\u001b[0m\u001b[1;33m\u001b[0m\u001b[1;33m\u001b[0m\u001b[0m\n\u001b[0;32m    276\u001b[0m             \u001b[1;32mreturn\u001b[0m \u001b[0m_missing\u001b[0m\u001b[1;33m\u001b[0m\u001b[1;33m\u001b[0m\u001b[0m\n",
      "\u001b[1;32mC:\\ProgramData\\Anaconda3\\lib\\site-packages\\ncclient\\manager.py\u001b[0m in \u001b[0;36m_missing\u001b[1;34m(*args, **kwargs)\u001b[0m\n\u001b[0;32m    271\u001b[0m                 \u001b[1;32mif\u001b[0m \u001b[0margs\u001b[0m\u001b[1;33m:\u001b[0m\u001b[1;33m\u001b[0m\u001b[1;33m\u001b[0m\u001b[0m\n\u001b[0;32m    272\u001b[0m                     \u001b[1;32mfor\u001b[0m \u001b[0marg\u001b[0m \u001b[1;32min\u001b[0m \u001b[0margs\u001b[0m\u001b[1;33m:\u001b[0m\u001b[1;33m\u001b[0m\u001b[1;33m\u001b[0m\u001b[0m\n\u001b[1;32m--> 273\u001b[1;33m                         \u001b[0msub_ele\u001b[0m\u001b[1;33m(\u001b[0m\u001b[0mroot\u001b[0m\u001b[1;33m,\u001b[0m \u001b[0marg\u001b[0m\u001b[1;33m)\u001b[0m\u001b[1;33m\u001b[0m\u001b[1;33m\u001b[0m\u001b[0m\n\u001b[0m\u001b[0;32m    274\u001b[0m                 \u001b[0mr\u001b[0m \u001b[1;33m=\u001b[0m \u001b[0mself\u001b[0m\u001b[1;33m.\u001b[0m\u001b[0mrpc\u001b[0m\u001b[1;33m(\u001b[0m\u001b[0mroot\u001b[0m\u001b[1;33m)\u001b[0m\u001b[1;33m\u001b[0m\u001b[1;33m\u001b[0m\u001b[0m\n\u001b[0;32m    275\u001b[0m                 \u001b[1;32mreturn\u001b[0m \u001b[0mr\u001b[0m\u001b[1;33m\u001b[0m\u001b[1;33m\u001b[0m\u001b[0m\n",
      "\u001b[1;32mC:\\ProgramData\\Anaconda3\\lib\\site-packages\\ncclient\\xml_.py\u001b[0m in \u001b[0;36m<lambda>\u001b[1;34m(parent, tag, attrs, **extra)\u001b[0m\n\u001b[0;32m    229\u001b[0m \u001b[0mnew_ele_ns\u001b[0m \u001b[1;33m=\u001b[0m \u001b[1;32mlambda\u001b[0m \u001b[0mtag\u001b[0m\u001b[1;33m,\u001b[0m \u001b[0mns\u001b[0m\u001b[1;33m,\u001b[0m \u001b[0mattrs\u001b[0m\u001b[1;33m=\u001b[0m\u001b[1;33m{\u001b[0m\u001b[1;33m}\u001b[0m\u001b[1;33m,\u001b[0m \u001b[1;33m**\u001b[0m\u001b[0mextra\u001b[0m\u001b[1;33m:\u001b[0m \u001b[0metree\u001b[0m\u001b[1;33m.\u001b[0m\u001b[0mElement\u001b[0m\u001b[1;33m(\u001b[0m\u001b[0mqualify\u001b[0m\u001b[1;33m(\u001b[0m\u001b[0mtag\u001b[0m\u001b[1;33m,\u001b[0m\u001b[0mns\u001b[0m\u001b[1;33m)\u001b[0m\u001b[1;33m,\u001b[0m \u001b[0mattrs\u001b[0m\u001b[1;33m,\u001b[0m \u001b[1;33m**\u001b[0m\u001b[0mextra\u001b[0m\u001b[1;33m)\u001b[0m\u001b[1;33m\u001b[0m\u001b[1;33m\u001b[0m\u001b[0m\n\u001b[0;32m    230\u001b[0m \u001b[1;33m\u001b[0m\u001b[0m\n\u001b[1;32m--> 231\u001b[1;33m \u001b[0msub_ele\u001b[0m \u001b[1;33m=\u001b[0m \u001b[1;32mlambda\u001b[0m \u001b[0mparent\u001b[0m\u001b[1;33m,\u001b[0m \u001b[0mtag\u001b[0m\u001b[1;33m,\u001b[0m \u001b[0mattrs\u001b[0m\u001b[1;33m=\u001b[0m\u001b[1;33m{\u001b[0m\u001b[1;33m}\u001b[0m\u001b[1;33m,\u001b[0m \u001b[1;33m**\u001b[0m\u001b[0mextra\u001b[0m\u001b[1;33m:\u001b[0m \u001b[0metree\u001b[0m\u001b[1;33m.\u001b[0m\u001b[0mSubElement\u001b[0m\u001b[1;33m(\u001b[0m\u001b[0mparent\u001b[0m\u001b[1;33m,\u001b[0m \u001b[0mqualify\u001b[0m\u001b[1;33m(\u001b[0m\u001b[0mtag\u001b[0m\u001b[1;33m)\u001b[0m\u001b[1;33m,\u001b[0m \u001b[0mattrs\u001b[0m\u001b[1;33m,\u001b[0m \u001b[1;33m**\u001b[0m\u001b[0mextra\u001b[0m\u001b[1;33m)\u001b[0m\u001b[1;33m\u001b[0m\u001b[1;33m\u001b[0m\u001b[0m\n\u001b[0m\u001b[0;32m    232\u001b[0m \u001b[1;33m\u001b[0m\u001b[0m\n\u001b[0;32m    233\u001b[0m \u001b[0msub_ele_ns\u001b[0m \u001b[1;33m=\u001b[0m \u001b[1;32mlambda\u001b[0m \u001b[0mparent\u001b[0m\u001b[1;33m,\u001b[0m \u001b[0mtag\u001b[0m\u001b[1;33m,\u001b[0m \u001b[0mns\u001b[0m\u001b[1;33m,\u001b[0m \u001b[0mattrs\u001b[0m\u001b[1;33m=\u001b[0m\u001b[1;33m{\u001b[0m\u001b[1;33m}\u001b[0m\u001b[1;33m,\u001b[0m \u001b[1;33m**\u001b[0m\u001b[0mextra\u001b[0m\u001b[1;33m:\u001b[0m \u001b[0metree\u001b[0m\u001b[1;33m.\u001b[0m\u001b[0mSubElement\u001b[0m\u001b[1;33m(\u001b[0m\u001b[0mparent\u001b[0m\u001b[1;33m,\u001b[0m \u001b[0mqualify\u001b[0m\u001b[1;33m(\u001b[0m\u001b[0mtag\u001b[0m\u001b[1;33m,\u001b[0m \u001b[0mns\u001b[0m\u001b[1;33m)\u001b[0m\u001b[1;33m,\u001b[0m \u001b[0mattrs\u001b[0m\u001b[1;33m,\u001b[0m \u001b[1;33m**\u001b[0m\u001b[0mextra\u001b[0m\u001b[1;33m)\u001b[0m\u001b[1;33m\u001b[0m\u001b[1;33m\u001b[0m\u001b[0m\n",
      "\u001b[1;32msrc/lxml/etree.pyx\u001b[0m in \u001b[0;36mlxml.etree.SubElement\u001b[1;34m()\u001b[0m\n",
      "\u001b[1;32msrc/lxml/apihelpers.pxi\u001b[0m in \u001b[0;36mlxml.etree._makeSubElement\u001b[1;34m()\u001b[0m\n",
      "\u001b[1;32msrc/lxml/apihelpers.pxi\u001b[0m in \u001b[0;36mlxml.etree._tagValidOrRaise\u001b[1;34m()\u001b[0m\n",
      "\u001b[1;31mValueError\u001b[0m: Invalid tag name '<Element {urn:ietf:params:xml:ns:netconf:base:1.0}disconnect at 0x1dabe4e6308>'"
     ]
    }
   ],
   "source": []
  },
  {
   "cell_type": "markdown",
   "metadata": {},
   "source": [
    "3- Create NETCONF Request that will change the Hostname of your device to 'NEXUS':"
   ]
  },
  {
   "cell_type": "code",
   "execution_count": 10,
   "metadata": {},
   "outputs": [],
   "source": [
    "import ncclient\n",
    "from ncclient import manager\n",
    "from ncclient.operations import TimeoutExpiredError\n"
   ]
  },
  {
   "cell_type": "code",
   "execution_count": 11,
   "metadata": {},
   "outputs": [],
   "source": [
    "update_hostname_config_string = '''\n",
    "    <configure xmlns=\"http://www.cisco.com/nxos:1.0\">\n",
    "        <__XML__MODE__exec_configure>\n",
    "            <hostname><name>NEXUS</name></hostname>\n",
    "        </__XML__MODE__exec_configure>\n",
    "    </configure>\n",
    "'''"
   ]
  },
  {
   "cell_type": "code",
   "execution_count": 12,
   "metadata": {},
   "outputs": [
    {
     "name": "stdout",
     "output_type": "stream",
     "text": [
      "Connected to the device!\n",
      "<config>\n",
      "    <configure xmlns=\"http://www.cisco.com/nxos:1.0\">\n",
      "        <__XML__MODE__exec_configure>\n",
      "            <hostname><name>NEXUS</name></hostname>\n",
      "        </__XML__MODE__exec_configure>\n",
      "    </configure>\n",
      "</config>\n",
      "Config pushed successfuly!\n"
     ]
    }
   ],
   "source": [
    "try:\n",
    "        device_connection = ncclient.manager.connect(\n",
    "            host = '127.0.0.1',\n",
    "            port = 2222,\n",
    "            username='admin',\n",
    "            password='cisco!123',\n",
    "            hostkey_verify=False,\n",
    "            device_params={'name': 'nexus'},\n",
    "            allow_agent=False,\n",
    "            look_for_keys=False\n",
    "        )\n",
    "        print(\"Connected to the device!\")  \n",
    "except:\n",
    "        print(\"Failure...\")\n",
    "\n",
    "configuration = ''        \n",
    "try:\n",
    " \n",
    "        configuration += '<config>'\n",
    "        configuration += update_hostname_config_string\n",
    "        configuration += '</config>'\n",
    "        print(configuration)\n",
    "        device_connection.edit_config(target='running', config=configuration)\n",
    "        print(\"Config pushed successfuly!\")\n",
    "except:\n",
    "        print(\"Something went wrong...\")"
   ]
  },
  {
   "cell_type": "code",
   "execution_count": 2,
   "metadata": {},
   "outputs": [
    {
     "ename": "NameError",
     "evalue": "name 'device_connection' is not defined",
     "output_type": "error",
     "traceback": [
      "\u001b[1;31m---------------------------------------------------------------------------\u001b[0m",
      "\u001b[1;31mNameError\u001b[0m                                 Traceback (most recent call last)",
      "\u001b[1;32m<ipython-input-2-163525ef6b08>\u001b[0m in \u001b[0;36m<module>\u001b[1;34m\u001b[0m\n\u001b[1;32m----> 1\u001b[1;33m \u001b[0mdevice_connection\u001b[0m\u001b[1;33m.\u001b[0m\u001b[0mdisconnect\u001b[0m\u001b[1;33m(\u001b[0m\u001b[1;33m)\u001b[0m\u001b[1;33m\u001b[0m\u001b[1;33m\u001b[0m\u001b[0m\n\u001b[0m",
      "\u001b[1;31mNameError\u001b[0m: name 'device_connection' is not defined"
     ]
    }
   ],
   "source": [
    "  device_connection.disconnect()"
   ]
  }
 ],
 "metadata": {
  "kernelspec": {
   "display_name": "Python 3",
   "language": "python",
   "name": "python3"
  },
  "language_info": {
   "codemirror_mode": {
    "name": "ipython",
    "version": 3
   },
   "file_extension": ".py",
   "mimetype": "text/x-python",
   "name": "python",
   "nbconvert_exporter": "python",
   "pygments_lexer": "ipython3",
   "version": "3.7.3"
  }
 },
 "nbformat": 4,
 "nbformat_minor": 2
}
